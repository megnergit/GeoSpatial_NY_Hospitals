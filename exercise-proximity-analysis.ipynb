{
 "cells": [
  {
   "cell_type": "markdown",
   "metadata": {
    "toc": true
   },
   "source": [
    "<h1>Table of Contents<span class=\"tocSkip\"></span></h1>\n",
    "<div class=\"toc\"><ul class=\"toc-item\"><li><span><a href=\"#1.-Task\" data-toc-modified-id=\"1.-Task-1\">1. Task</a></span></li><li><span><a href=\"#2.-Data\" data-toc-modified-id=\"2.-Data-2\">2. Data</a></span></li><li><span><a href=\"#3.-Notebook\" data-toc-modified-id=\"3.-Notebook-3\">3. Notebook</a></span></li><li><span><a href=\"#4.-Conclusion\" data-toc-modified-id=\"4.-Conclusion-4\">4. Conclusion</a></span></li><li><span><a href=\"#5.-Appendix\" data-toc-modified-id=\"5.-Appendix-5\">5. Appendix</a></span></li></ul></div>"
   ]
  },
  {
   "cell_type": "markdown",
   "metadata": {},
   "source": [
    "------------------------------------------------------------------\n",
    " # Geospatial Data Exercise\n",
    "------------------------------------------------------------------\n",
    "\n",
    " This is an exercise notebook for the fifth lesson of the kaggle course\n",
    " [\"Geospatial Analysis\"](https://www.kaggle.com/learn/geospatial-analysis)\n",
    " offered by Alexis Cook and Jessica Li. The main goal of the lesson is\n",
    " to get used to __Proximity Analysis__, using `geopandas` methods such as\n",
    " `.distance`. We also learn how to use\n",
    " `.unary_union` to connect multiple `POLYGON`s into one."
   ]
  },
  {
   "cell_type": "markdown",
   "metadata": {},
   "source": [
    "## 1. Task\n",
    "\n",
    "   Every day someone injured in New York City in a car accident.\n",
    "   If an ambulance can quickly rush into a nearby hospital with a patient\n",
    "   is a matter of life and death. We will review the records of daily car\n",
    "   crashes in New York City and the locations of hospitals there.\n",
    "\n",
    " 1. Find out if there is any vulnerable districts where\n",
    "    it takes particularly long to transport the injured to a hospital.\n",
    " 2. Create a recommender system to tell ambulance drivers\n",
    "    to which hospital (the nearest) they should transport the injured."
   ]
  },
  {
   "cell_type": "markdown",
   "metadata": {},
   "source": [
    "## 2. Data\n",
    "\n",
    " 1. Daily records of car crashes in New York City.\n",
    "\n",
    " 2. Locations of hospitals in New York City.\n",
    "\n",
    " 3. General underlying  map."
   ]
  },
  {
   "cell_type": "markdown",
   "metadata": {},
   "source": [
    "## 3. Notebook"
   ]
  },
  {
   "cell_type": "markdown",
   "metadata": {},
   "source": [
    "Import packages."
   ]
  },
  {
   "cell_type": "code",
   "execution_count": 1,
   "metadata": {},
   "outputs": [],
   "source": [
    "import folium\n",
    "import numpy as np\n",
    "from folium import Marker, GeoJson\n",
    "from folium.plugins import HeatMap\n",
    "import pandas as pd\n",
    "import geopandas as gpd\n",
    "import plotly.graph_objs as go\n",
    "from kaggle_geospatial.kgsp import *\n",
    "from datetime import datetime\n",
    "import os\n",
    "from pathlib import Path"
   ]
  },
  {
   "cell_type": "markdown",
   "metadata": {},
   "source": [
    "Set up some directories."
   ]
  },
  {
   "cell_type": "code",
   "execution_count": 2,
   "metadata": {},
   "outputs": [],
   "source": [
    "CWD = '/Users/meg/git6/ny_hospitals/'\n",
    "DATA_DIR = '../input/geospatial-learn-course-data/'\n",
    "KAGGLE_DIR = 'alexisbcook/geospatial-learn-course-data'\n",
    "GEO_DIR = 'geospatial-learn-course-data'\n",
    "\n",
    "os.chdir(CWD)\n",
    "\n",
    "set_cwd(CWD)\n",
    "set_data_dir(DATA_DIR, KAGGLE_DIR, GEO_DIR, CWD)\n",
    "show_whole_dataframe(True)"
   ]
  },
  {
   "cell_type": "markdown",
   "metadata": {},
   "source": [
    "Read the daily records of car crashes in New York City."
   ]
  },
  {
   "cell_type": "code",
   "execution_count": 3,
   "metadata": {},
   "outputs": [
    {
     "name": "stdout",
     "output_type": "stream",
     "text": [
      "<class 'geopandas.geodataframe.GeoDataFrame'>\n",
      "RangeIndex: 261905 entries, 0 to 261904\n",
      "Data columns (total 30 columns):\n",
      " #   Column      Non-Null Count   Dtype   \n",
      "---  ------      --------------   -----   \n",
      " 0   DATE        261905 non-null  object  \n",
      " 1   TIME        261905 non-null  object  \n",
      " 2   BOROUGH     199243 non-null  object  \n",
      " 3   ZIP CODE    199200 non-null  object  \n",
      " 4   LATITUDE    261905 non-null  float64 \n",
      " 5   LONGITUDE   261905 non-null  float64 \n",
      " 6   LOCATION    261905 non-null  object  \n",
      " 7   ON STREET   225789 non-null  object  \n",
      " 8   CROSS STRE  185029 non-null  object  \n",
      " 9   OFF STREET  23998 non-null   object  \n",
      " 10  NUMBER OF   261905 non-null  float64 \n",
      " 11  NUMBER O_1  261892 non-null  float64 \n",
      " 12  NUMBER O_2  261905 non-null  int64   \n",
      " 13  NUMBER O_3  261905 non-null  int64   \n",
      " 14  NUMBER O_4  261905 non-null  int64   \n",
      " 15  NUMBER O_5  261905 non-null  int64   \n",
      " 16  NUMBER O_6  261905 non-null  int64   \n",
      " 17  NUMBER O_7  261905 non-null  int64   \n",
      " 18  CONTRIBUTI  260121 non-null  object  \n",
      " 19  CONTRIBU_1  179946 non-null  object  \n",
      " 20  CONTRIBU_2  29992 non-null   object  \n",
      " 21  CONTRIBU_3  7754 non-null    object  \n",
      " 22  CONTRIBU_4  2197 non-null    object  \n",
      " 23  UNIQUE KEY  261905 non-null  int64   \n",
      " 24  VEHICLE TY  258879 non-null  object  \n",
      " 25  VEHICLE _1  177975 non-null  object  \n",
      " 26  VEHICLE _2  34495 non-null   object  \n",
      " 27  VEHICLE _3  12765 non-null   object  \n",
      " 28  VEHICLE _4  3694 non-null    object  \n",
      " 29  geometry    261905 non-null  geometry\n",
      "dtypes: float64(4), geometry(1), int64(7), object(18)\n",
      "memory usage: 59.9+ MB\n",
      "None\n"
     ]
    }
   ],
   "source": [
    "collisions_dir = DATA_DIR + \\\n",
    "    'NYPD_Motor_Vehicle_Collisions/NYPD_Motor_Vehicle_Collisions/'\n",
    "\n",
    "collisions = gpd.read_file(\n",
    "    collisions_dir + 'NYPD_Motor_Vehicle_Collisions.shp',\n",
    "    parse_dates=['DATE', 'TIME'])\n",
    "\n",
    "print(collisions.info())"
   ]
  },
  {
   "cell_type": "markdown",
   "metadata": {},
   "source": [
    "It looks like, `parse_dates` does not convert `dtype` of\n",
    " date and time to `datetime` from `object` (string).\n",
    " Do it separately."
   ]
  },
  {
   "cell_type": "code",
   "execution_count": 4,
   "metadata": {},
   "outputs": [],
   "source": [
    "collisions['DATE'] = pd.to_datetime(collisions['DATE'])\n",
    "collisions['TIME'] = pd.to_datetime(collisions['TIME'])"
   ]
  },
  {
   "cell_type": "markdown",
   "metadata": {},
   "source": [
    "Let us start with the record in 2019 only."
   ]
  },
  {
   "cell_type": "code",
   "execution_count": 5,
   "metadata": {},
   "outputs": [
    {
     "name": "stdout",
     "output_type": "stream",
     "text": [
      "2012-07-01 00:00:00\n",
      "2019-07-30 00:00:00\n",
      "261905\n",
      "2019-01-01 00:00:00\n",
      "2019-07-30 00:00:00\n",
      "23517\n"
     ]
    },
    {
     "data": {
      "text/html": [
       "<div>\n",
       "<style scoped>\n",
       "    .dataframe tbody tr th:only-of-type {\n",
       "        vertical-align: middle;\n",
       "    }\n",
       "\n",
       "    .dataframe tbody tr th {\n",
       "        vertical-align: top;\n",
       "    }\n",
       "\n",
       "    .dataframe thead th {\n",
       "        text-align: right;\n",
       "    }\n",
       "</style>\n",
       "<table border=\"1\" class=\"dataframe\">\n",
       "  <thead>\n",
       "    <tr style=\"text-align: right;\">\n",
       "      <th></th>\n",
       "      <th>DATE</th>\n",
       "      <th>TIME</th>\n",
       "      <th>BOROUGH</th>\n",
       "      <th>ZIP CODE</th>\n",
       "      <th>LATITUDE</th>\n",
       "      <th>LONGITUDE</th>\n",
       "      <th>LOCATION</th>\n",
       "      <th>ON STREET</th>\n",
       "      <th>CROSS STRE</th>\n",
       "      <th>OFF STREET</th>\n",
       "      <th>NUMBER OF</th>\n",
       "      <th>NUMBER O_1</th>\n",
       "      <th>NUMBER O_2</th>\n",
       "      <th>NUMBER O_3</th>\n",
       "      <th>NUMBER O_4</th>\n",
       "      <th>NUMBER O_5</th>\n",
       "      <th>NUMBER O_6</th>\n",
       "      <th>NUMBER O_7</th>\n",
       "      <th>CONTRIBUTI</th>\n",
       "      <th>CONTRIBU_1</th>\n",
       "      <th>CONTRIBU_2</th>\n",
       "      <th>CONTRIBU_3</th>\n",
       "      <th>CONTRIBU_4</th>\n",
       "      <th>UNIQUE KEY</th>\n",
       "      <th>VEHICLE TY</th>\n",
       "      <th>VEHICLE _1</th>\n",
       "      <th>VEHICLE _2</th>\n",
       "      <th>VEHICLE _3</th>\n",
       "      <th>VEHICLE _4</th>\n",
       "      <th>geometry</th>\n",
       "    </tr>\n",
       "  </thead>\n",
       "  <tbody>\n",
       "    <tr>\n",
       "      <th>0</th>\n",
       "      <td>2019-07-30</td>\n",
       "      <td>2021-11-28 00:00:00</td>\n",
       "      <td>BRONX</td>\n",
       "      <td>10464</td>\n",
       "      <td>40.841100</td>\n",
       "      <td>-73.784960</td>\n",
       "      <td>(40.8411, -73.78496)</td>\n",
       "      <td>None</td>\n",
       "      <td>None</td>\n",
       "      <td>121       PILOT STREET</td>\n",
       "      <td>1.0</td>\n",
       "      <td>0.0</td>\n",
       "      <td>0</td>\n",
       "      <td>0</td>\n",
       "      <td>0</td>\n",
       "      <td>0</td>\n",
       "      <td>1</td>\n",
       "      <td>0</td>\n",
       "      <td>Unspecified</td>\n",
       "      <td>Unspecified</td>\n",
       "      <td>Unspecified</td>\n",
       "      <td>None</td>\n",
       "      <td>None</td>\n",
       "      <td>4180045</td>\n",
       "      <td>Sedan</td>\n",
       "      <td>Station Wagon/Sport Utility Vehicle</td>\n",
       "      <td>Station Wagon/Sport Utility Vehicle</td>\n",
       "      <td>None</td>\n",
       "      <td>None</td>\n",
       "      <td>POINT (1043750.211 245785.815)</td>\n",
       "    </tr>\n",
       "    <tr>\n",
       "      <th>1</th>\n",
       "      <td>2019-07-30</td>\n",
       "      <td>2021-11-28 00:10:00</td>\n",
       "      <td>QUEENS</td>\n",
       "      <td>11423</td>\n",
       "      <td>40.710827</td>\n",
       "      <td>-73.770660</td>\n",
       "      <td>(40.710827, -73.77066)</td>\n",
       "      <td>JAMAICA AVENUE</td>\n",
       "      <td>188 STREET</td>\n",
       "      <td>None</td>\n",
       "      <td>1.0</td>\n",
       "      <td>0.0</td>\n",
       "      <td>0</td>\n",
       "      <td>0</td>\n",
       "      <td>0</td>\n",
       "      <td>0</td>\n",
       "      <td>1</td>\n",
       "      <td>0</td>\n",
       "      <td>Driver Inattention/Distraction</td>\n",
       "      <td>Unspecified</td>\n",
       "      <td>None</td>\n",
       "      <td>None</td>\n",
       "      <td>None</td>\n",
       "      <td>4180007</td>\n",
       "      <td>Sedan</td>\n",
       "      <td>Sedan</td>\n",
       "      <td>None</td>\n",
       "      <td>None</td>\n",
       "      <td>None</td>\n",
       "      <td>POINT (1047831.185 198333.171)</td>\n",
       "    </tr>\n",
       "    <tr>\n",
       "      <th>2</th>\n",
       "      <td>2019-07-30</td>\n",
       "      <td>2021-11-28 00:25:00</td>\n",
       "      <td>None</td>\n",
       "      <td>None</td>\n",
       "      <td>40.880318</td>\n",
       "      <td>-73.841286</td>\n",
       "      <td>(40.880318, -73.841286)</td>\n",
       "      <td>BOSTON ROAD</td>\n",
       "      <td>None</td>\n",
       "      <td>None</td>\n",
       "      <td>1.0</td>\n",
       "      <td>0.0</td>\n",
       "      <td>0</td>\n",
       "      <td>0</td>\n",
       "      <td>0</td>\n",
       "      <td>0</td>\n",
       "      <td>1</td>\n",
       "      <td>0</td>\n",
       "      <td>Following Too Closely</td>\n",
       "      <td>Unspecified</td>\n",
       "      <td>None</td>\n",
       "      <td>None</td>\n",
       "      <td>None</td>\n",
       "      <td>4179575</td>\n",
       "      <td>Sedan</td>\n",
       "      <td>Station Wagon/Sport Utility Vehicle</td>\n",
       "      <td>None</td>\n",
       "      <td>None</td>\n",
       "      <td>None</td>\n",
       "      <td>POINT (1028139.293 260041.178)</td>\n",
       "    </tr>\n",
       "  </tbody>\n",
       "</table>\n",
       "</div>"
      ],
      "text/plain": [
       "        DATE                TIME BOROUGH ZIP CODE   LATITUDE  LONGITUDE  \\\n",
       "0 2019-07-30 2021-11-28 00:00:00   BRONX    10464  40.841100 -73.784960   \n",
       "1 2019-07-30 2021-11-28 00:10:00  QUEENS    11423  40.710827 -73.770660   \n",
       "2 2019-07-30 2021-11-28 00:25:00    None     None  40.880318 -73.841286   \n",
       "\n",
       "                  LOCATION       ON STREET  CROSS STRE  \\\n",
       "0     (40.8411, -73.78496)            None        None   \n",
       "1   (40.710827, -73.77066)  JAMAICA AVENUE  188 STREET   \n",
       "2  (40.880318, -73.841286)     BOSTON ROAD        None   \n",
       "\n",
       "               OFF STREET  NUMBER OF  NUMBER O_1  NUMBER O_2  NUMBER O_3  \\\n",
       "0  121       PILOT STREET        1.0         0.0           0           0   \n",
       "1                    None        1.0         0.0           0           0   \n",
       "2                    None        1.0         0.0           0           0   \n",
       "\n",
       "   NUMBER O_4  NUMBER O_5  NUMBER O_6  NUMBER O_7  \\\n",
       "0           0           0           1           0   \n",
       "1           0           0           1           0   \n",
       "2           0           0           1           0   \n",
       "\n",
       "                       CONTRIBUTI   CONTRIBU_1   CONTRIBU_2 CONTRIBU_3  \\\n",
       "0                     Unspecified  Unspecified  Unspecified       None   \n",
       "1  Driver Inattention/Distraction  Unspecified         None       None   \n",
       "2           Following Too Closely  Unspecified         None       None   \n",
       "\n",
       "  CONTRIBU_4  UNIQUE KEY VEHICLE TY                           VEHICLE _1  \\\n",
       "0       None     4180045      Sedan  Station Wagon/Sport Utility Vehicle   \n",
       "1       None     4180007      Sedan                                Sedan   \n",
       "2       None     4179575      Sedan  Station Wagon/Sport Utility Vehicle   \n",
       "\n",
       "                            VEHICLE _2 VEHICLE _3 VEHICLE _4  \\\n",
       "0  Station Wagon/Sport Utility Vehicle       None       None   \n",
       "1                                 None       None       None   \n",
       "2                                 None       None       None   \n",
       "\n",
       "                         geometry  \n",
       "0  POINT (1043750.211 245785.815)  \n",
       "1  POINT (1047831.185 198333.171)  \n",
       "2  POINT (1028139.293 260041.178)  "
      ]
     },
     "execution_count": 5,
     "metadata": {},
     "output_type": "execute_result"
    }
   ],
   "source": [
    "print(collisions['DATE'].min())\n",
    "print(collisions['DATE'].max())\n",
    "print(len(collisions))\n",
    "\n",
    "collisions = collisions[collisions['DATE'] >=\n",
    "                        datetime.strptime('2019/01/01', '%Y/%m/%d')]\n",
    "\n",
    "print(collisions['DATE'].min())\n",
    "print(collisions['DATE'].max())\n",
    "print(len(collisions))\n",
    "collisions.head(3)"
   ]
  },
  {
   "cell_type": "markdown",
   "metadata": {},
   "source": [
    "Read the locations of hospitals in New York City."
   ]
  },
  {
   "cell_type": "code",
   "execution_count": 6,
   "metadata": {},
   "outputs": [
    {
     "name": "stdout",
     "output_type": "stream",
     "text": [
      "<class 'geopandas.geodataframe.GeoDataFrame'>\n",
      "RangeIndex: 62 entries, 0 to 61\n",
      "Data columns (total 14 columns):\n",
      " #   Column     Non-Null Count  Dtype   \n",
      "---  ------     --------------  -----   \n",
      " 0   id         62 non-null     object  \n",
      " 1   name       62 non-null     object  \n",
      " 2   address    62 non-null     object  \n",
      " 3   zip        62 non-null     object  \n",
      " 4   factype    62 non-null     object  \n",
      " 5   facname    62 non-null     object  \n",
      " 6   capacity   60 non-null     object  \n",
      " 7   capname    62 non-null     object  \n",
      " 8   bcode      62 non-null     object  \n",
      " 9   xcoord     62 non-null     float64 \n",
      " 10  ycoord     62 non-null     float64 \n",
      " 11  latitude   62 non-null     float64 \n",
      " 12  longitude  62 non-null     float64 \n",
      " 13  geometry   62 non-null     geometry\n",
      "dtypes: float64(4), geometry(1), object(9)\n",
      "memory usage: 6.9+ KB\n",
      "None\n",
      "(62, 14)\n"
     ]
    },
    {
     "data": {
      "text/html": [
       "<div>\n",
       "<style scoped>\n",
       "    .dataframe tbody tr th:only-of-type {\n",
       "        vertical-align: middle;\n",
       "    }\n",
       "\n",
       "    .dataframe tbody tr th {\n",
       "        vertical-align: top;\n",
       "    }\n",
       "\n",
       "    .dataframe thead th {\n",
       "        text-align: right;\n",
       "    }\n",
       "</style>\n",
       "<table border=\"1\" class=\"dataframe\">\n",
       "  <thead>\n",
       "    <tr style=\"text-align: right;\">\n",
       "      <th></th>\n",
       "      <th>id</th>\n",
       "      <th>name</th>\n",
       "      <th>address</th>\n",
       "      <th>zip</th>\n",
       "      <th>factype</th>\n",
       "      <th>facname</th>\n",
       "      <th>capacity</th>\n",
       "      <th>capname</th>\n",
       "      <th>bcode</th>\n",
       "      <th>xcoord</th>\n",
       "      <th>ycoord</th>\n",
       "      <th>latitude</th>\n",
       "      <th>longitude</th>\n",
       "      <th>geometry</th>\n",
       "    </tr>\n",
       "  </thead>\n",
       "  <tbody>\n",
       "    <tr>\n",
       "      <th>0</th>\n",
       "      <td>317000001H1178</td>\n",
       "      <td>BRONX-LEBANON HOSPITAL CENTER - CONCOURSE DIVI...</td>\n",
       "      <td>1650 Grand Concourse</td>\n",
       "      <td>10457</td>\n",
       "      <td>3102</td>\n",
       "      <td>Hospital</td>\n",
       "      <td>415</td>\n",
       "      <td>Beds</td>\n",
       "      <td>36005</td>\n",
       "      <td>1008872.0</td>\n",
       "      <td>246596.0</td>\n",
       "      <td>40.843490</td>\n",
       "      <td>-73.911010</td>\n",
       "      <td>POINT (1008872.000 246596.000)</td>\n",
       "    </tr>\n",
       "    <tr>\n",
       "      <th>1</th>\n",
       "      <td>317000001H1164</td>\n",
       "      <td>BRONX-LEBANON HOSPITAL CENTER - FULTON DIVISION</td>\n",
       "      <td>1276 Fulton Ave</td>\n",
       "      <td>10456</td>\n",
       "      <td>3102</td>\n",
       "      <td>Hospital</td>\n",
       "      <td>164</td>\n",
       "      <td>Beds</td>\n",
       "      <td>36005</td>\n",
       "      <td>1011044.0</td>\n",
       "      <td>242204.0</td>\n",
       "      <td>40.831429</td>\n",
       "      <td>-73.903178</td>\n",
       "      <td>POINT (1011044.000 242204.000)</td>\n",
       "    </tr>\n",
       "    <tr>\n",
       "      <th>2</th>\n",
       "      <td>317000011H1175</td>\n",
       "      <td>CALVARY HOSPITAL INC</td>\n",
       "      <td>1740-70 Eastchester Rd</td>\n",
       "      <td>10461</td>\n",
       "      <td>3102</td>\n",
       "      <td>Hospital</td>\n",
       "      <td>225</td>\n",
       "      <td>Beds</td>\n",
       "      <td>36005</td>\n",
       "      <td>1027505.0</td>\n",
       "      <td>248287.0</td>\n",
       "      <td>40.848060</td>\n",
       "      <td>-73.843656</td>\n",
       "      <td>POINT (1027505.000 248287.000)</td>\n",
       "    </tr>\n",
       "  </tbody>\n",
       "</table>\n",
       "</div>"
      ],
      "text/plain": [
       "               id                                               name  \\\n",
       "0  317000001H1178  BRONX-LEBANON HOSPITAL CENTER - CONCOURSE DIVI...   \n",
       "1  317000001H1164    BRONX-LEBANON HOSPITAL CENTER - FULTON DIVISION   \n",
       "2  317000011H1175                               CALVARY HOSPITAL INC   \n",
       "\n",
       "                  address    zip factype   facname capacity capname  bcode  \\\n",
       "0    1650 Grand Concourse  10457    3102  Hospital      415    Beds  36005   \n",
       "1         1276 Fulton Ave  10456    3102  Hospital      164    Beds  36005   \n",
       "2  1740-70 Eastchester Rd  10461    3102  Hospital      225    Beds  36005   \n",
       "\n",
       "      xcoord    ycoord   latitude  longitude                        geometry  \n",
       "0  1008872.0  246596.0  40.843490 -73.911010  POINT (1008872.000 246596.000)  \n",
       "1  1011044.0  242204.0  40.831429 -73.903178  POINT (1011044.000 242204.000)  \n",
       "2  1027505.0  248287.0  40.848060 -73.843656  POINT (1027505.000 248287.000)  "
      ]
     },
     "execution_count": 6,
     "metadata": {},
     "output_type": "execute_result"
    }
   ],
   "source": [
    "hospitals_dir = DATA_DIR + 'nyu_2451_34494/nyu_2451_34494/'\n",
    "hospitals = gpd.read_file(hospitals_dir + 'nyu_2451_34494.shp')\n",
    "\n",
    "print(hospitals.info())\n",
    "print(hospitals.shape)\n",
    "hospitals.head(3)"
   ]
  },
  {
   "cell_type": "code",
   "execution_count": 7,
   "metadata": {},
   "outputs": [
    {
     "data": {
      "text/plain": [
       "<folium.plugins.heat_map.HeatMap at 0x7fe9cbc45430>"
      ]
     },
     "execution_count": 7,
     "metadata": {},
     "output_type": "execute_result"
    }
   ],
   "source": [
    "# Create a heatmap to show how the car crashes in New York City distributed.\n",
    "# First, set up the center of the map, tiles, and the initial zoom-factor.\n",
    "\n",
    "center = (collisions['LATITUDE'].mean(), collisions['LONGITUDE'].mean())\n",
    "tiles = 'Stamen Terrain'\n",
    "tiles = 'openstreetmap'\n",
    "# tiles = 'cartodbpositron'\n",
    "zoom = 12\n",
    "\n",
    "m_1 = folium.Map(location=center, tiles=tiles, zoom_start=zoom)\n",
    "HeatMap(data=collisions[['LATITUDE', 'LONGITUDE']],\n",
    "        min_opacity=0.1,\n",
    "        radius=15).add_to(m_1)"
   ]
  },
  {
   "cell_type": "code",
   "execution_count": 8,
   "metadata": {},
   "outputs": [
    {
     "data": {
      "text/html": [
       "\n",
       "        <iframe\n",
       "            width=\"100%\"\n",
       "            height=\"500px\"\n",
       "            src=\"./html/m_1.html\"\n",
       "            frameborder=\"0\"\n",
       "            allowfullscreen\n",
       "        ></iframe>\n",
       "        "
      ],
      "text/plain": [
       "<IPython.lib.display.IFrame at 0x7fe9b3af5640>"
      ]
     },
     "execution_count": 8,
     "metadata": {},
     "output_type": "execute_result"
    }
   ],
   "source": [
    "embed_map(m_1, './html/m_1.html')"
   ]
  },
  {
   "cell_type": "code",
   "execution_count": 9,
   "metadata": {},
   "outputs": [],
   "source": [
    "show_on_browser(m_1, CWD + './html/m_1b.html')"
   ]
  },
  {
   "cell_type": "markdown",
   "metadata": {},
   "source": [
    "There are concentrations of car crashes in\n",
    " * Lower Manhattan\n",
    " * Brooklyn\n",
    " * The Bronx"
   ]
  },
  {
   "cell_type": "markdown",
   "metadata": {},
   "source": [
    "in this order."
   ]
  },
  {
   "cell_type": "markdown",
   "metadata": {},
   "source": [
    "Let us overlay the locations of hospitals."
   ]
  },
  {
   "cell_type": "code",
   "execution_count": 10,
   "metadata": {},
   "outputs": [],
   "source": [
    "m_2 = folium.Map(location=center, tiles=tiles, zoom_start=zoom)\n",
    "HeatMap(data=collisions[['LATITUDE', 'LONGITUDE']],\n",
    "        min_opacity=0.1,\n",
    "        radius=15).add_to(m_2)\n",
    "dump = [Marker(location=[r['latitude'], r['longitude']], tooltip=r['name'],\n",
    "               popup=r['address']).add_to(m_2) for i, r in hospitals.iterrows()]"
   ]
  },
  {
   "cell_type": "code",
   "execution_count": 11,
   "metadata": {},
   "outputs": [
    {
     "data": {
      "text/html": [
       "\n",
       "        <iframe\n",
       "            width=\"100%\"\n",
       "            height=\"500px\"\n",
       "            src=\"./html/m_2.html\"\n",
       "            frameborder=\"0\"\n",
       "            allowfullscreen\n",
       "        ></iframe>\n",
       "        "
      ],
      "text/plain": [
       "<IPython.lib.display.IFrame at 0x7fe9b7a81730>"
      ]
     },
     "execution_count": 11,
     "metadata": {},
     "output_type": "execute_result"
    }
   ],
   "source": [
    "embed_map(m_2, './html/m_2.html')"
   ]
  },
  {
   "cell_type": "code",
   "execution_count": 12,
   "metadata": {},
   "outputs": [],
   "source": [
    "show_on_browser(m_2, CWD + './html/m_2b.html')"
   ]
  },
  {
   "cell_type": "markdown",
   "metadata": {},
   "source": [
    "Pick up the cases that the closest hospitals are more than 10 km away."
   ]
  },
  {
   "cell_type": "markdown",
   "metadata": {},
   "source": [
    "1. Add following columns to `collisions` table.\n",
    " - name, id and address of the nearest hospital.\n",
    " - distance to the nearest hospital."
   ]
  },
  {
   "cell_type": "markdown",
   "metadata": {},
   "source": [
    "2. Flag it when the nearest hospitals is more than 10 km away.\n",
    " Note that units of EPSG 2263 are meters."
   ]
  },
  {
   "cell_type": "code",
   "execution_count": 13,
   "metadata": {},
   "outputs": [
    {
     "name": "stdout",
     "output_type": "stream",
     "text": [
      "epsg:2263\n"
     ]
    },
    {
     "data": {
      "text/plain": [
       "True"
      ]
     },
     "execution_count": 13,
     "metadata": {},
     "output_type": "execute_result"
    }
   ],
   "source": [
    "print(hospitals.crs)\n",
    "hospitals.crs == collisions.crs"
   ]
  },
  {
   "cell_type": "code",
   "execution_count": 14,
   "metadata": {},
   "outputs": [
    {
     "name": "stdout",
     "output_type": "stream",
     "text": [
      "<class 'geopandas.geodataframe.GeoDataFrame'>\n",
      "Int64Index: 23517 entries, 0 to 23517\n",
      "Data columns (total 34 columns):\n",
      " #   Column              Non-Null Count  Dtype         \n",
      "---  ------              --------------  -----         \n",
      " 0   DATE                23517 non-null  datetime64[ns]\n",
      " 1   TIME                23517 non-null  datetime64[ns]\n",
      " 2   BOROUGH             15676 non-null  object        \n",
      " 3   ZIP CODE            15669 non-null  object        \n",
      " 4   LATITUDE            23517 non-null  float64       \n",
      " 5   LONGITUDE           23517 non-null  float64       \n",
      " 6   LOCATION            23517 non-null  object        \n",
      " 7   ON STREET           19597 non-null  object        \n",
      " 8   CROSS STRE          13262 non-null  object        \n",
      " 9   OFF STREET          3916 non-null   object        \n",
      " 10  NUMBER OF           23517 non-null  float64       \n",
      " 11  NUMBER O_1          23517 non-null  float64       \n",
      " 12  NUMBER O_2          23517 non-null  int64         \n",
      " 13  NUMBER O_3          23517 non-null  int64         \n",
      " 14  NUMBER O_4          23517 non-null  int64         \n",
      " 15  NUMBER O_5          23517 non-null  int64         \n",
      " 16  NUMBER O_6          23517 non-null  int64         \n",
      " 17  NUMBER O_7          23517 non-null  int64         \n",
      " 18  CONTRIBUTI          23208 non-null  object        \n",
      " 19  CONTRIBU_1          16876 non-null  object        \n",
      " 20  CONTRIBU_2          2727 non-null   object        \n",
      " 21  CONTRIBU_3          708 non-null    object        \n",
      " 22  CONTRIBU_4          198 non-null    object        \n",
      " 23  UNIQUE KEY          23517 non-null  int64         \n",
      " 24  VEHICLE TY          22974 non-null  object        \n",
      " 25  VEHICLE _1          16464 non-null  object        \n",
      " 26  VEHICLE _2          2672 non-null   object        \n",
      " 27  VEHICLE _3          692 non-null    object        \n",
      " 28  VEHICLE _4          195 non-null    object        \n",
      " 29  geometry            23517 non-null  geometry      \n",
      " 30  id_NEAREST_H        23517 non-null  object        \n",
      " 31  NAME_NEAREST_H      23517 non-null  object        \n",
      " 32  ADDRESS_NEAREST_H   23517 non-null  object        \n",
      " 33  DISTANCE_NEAREST_H  23517 non-null  float64       \n",
      "dtypes: datetime64[ns](2), float64(5), geometry(1), int64(7), object(19)\n",
      "memory usage: 6.3+ MB\n",
      "None\n"
     ]
    },
    {
     "data": {
      "text/html": [
       "<div>\n",
       "<style scoped>\n",
       "    .dataframe tbody tr th:only-of-type {\n",
       "        vertical-align: middle;\n",
       "    }\n",
       "\n",
       "    .dataframe tbody tr th {\n",
       "        vertical-align: top;\n",
       "    }\n",
       "\n",
       "    .dataframe thead th {\n",
       "        text-align: right;\n",
       "    }\n",
       "</style>\n",
       "<table border=\"1\" class=\"dataframe\">\n",
       "  <thead>\n",
       "    <tr style=\"text-align: right;\">\n",
       "      <th></th>\n",
       "      <th>DATE</th>\n",
       "      <th>TIME</th>\n",
       "      <th>BOROUGH</th>\n",
       "      <th>ZIP CODE</th>\n",
       "      <th>LATITUDE</th>\n",
       "      <th>LONGITUDE</th>\n",
       "      <th>LOCATION</th>\n",
       "      <th>ON STREET</th>\n",
       "      <th>CROSS STRE</th>\n",
       "      <th>OFF STREET</th>\n",
       "      <th>NUMBER OF</th>\n",
       "      <th>NUMBER O_1</th>\n",
       "      <th>NUMBER O_2</th>\n",
       "      <th>NUMBER O_3</th>\n",
       "      <th>NUMBER O_4</th>\n",
       "      <th>NUMBER O_5</th>\n",
       "      <th>NUMBER O_6</th>\n",
       "      <th>NUMBER O_7</th>\n",
       "      <th>CONTRIBUTI</th>\n",
       "      <th>CONTRIBU_1</th>\n",
       "      <th>CONTRIBU_2</th>\n",
       "      <th>CONTRIBU_3</th>\n",
       "      <th>CONTRIBU_4</th>\n",
       "      <th>UNIQUE KEY</th>\n",
       "      <th>VEHICLE TY</th>\n",
       "      <th>VEHICLE _1</th>\n",
       "      <th>VEHICLE _2</th>\n",
       "      <th>VEHICLE _3</th>\n",
       "      <th>VEHICLE _4</th>\n",
       "      <th>geometry</th>\n",
       "      <th>id_NEAREST_H</th>\n",
       "      <th>NAME_NEAREST_H</th>\n",
       "      <th>ADDRESS_NEAREST_H</th>\n",
       "      <th>DISTANCE_NEAREST_H</th>\n",
       "    </tr>\n",
       "  </thead>\n",
       "  <tbody>\n",
       "    <tr>\n",
       "      <th>0</th>\n",
       "      <td>2019-07-30</td>\n",
       "      <td>2021-11-28 00:00:00</td>\n",
       "      <td>BRONX</td>\n",
       "      <td>10464</td>\n",
       "      <td>40.841100</td>\n",
       "      <td>-73.784960</td>\n",
       "      <td>(40.8411, -73.78496)</td>\n",
       "      <td>None</td>\n",
       "      <td>None</td>\n",
       "      <td>121       PILOT STREET</td>\n",
       "      <td>1.0</td>\n",
       "      <td>0.0</td>\n",
       "      <td>0</td>\n",
       "      <td>0</td>\n",
       "      <td>0</td>\n",
       "      <td>0</td>\n",
       "      <td>1</td>\n",
       "      <td>0</td>\n",
       "      <td>Unspecified</td>\n",
       "      <td>Unspecified</td>\n",
       "      <td>Unspecified</td>\n",
       "      <td>None</td>\n",
       "      <td>None</td>\n",
       "      <td>4180045</td>\n",
       "      <td>Sedan</td>\n",
       "      <td>Station Wagon/Sport Utility Vehicle</td>\n",
       "      <td>Station Wagon/Sport Utility Vehicle</td>\n",
       "      <td>None</td>\n",
       "      <td>None</td>\n",
       "      <td>POINT (1043750.211 245785.815)</td>\n",
       "      <td>317000011H1175</td>\n",
       "      <td>CALVARY HOSPITAL INC</td>\n",
       "      <td>1740-70 Eastchester Rd</td>\n",
       "      <td>16436.629798</td>\n",
       "    </tr>\n",
       "    <tr>\n",
       "      <th>1</th>\n",
       "      <td>2019-07-30</td>\n",
       "      <td>2021-11-28 00:10:00</td>\n",
       "      <td>QUEENS</td>\n",
       "      <td>11423</td>\n",
       "      <td>40.710827</td>\n",
       "      <td>-73.770660</td>\n",
       "      <td>(40.710827, -73.77066)</td>\n",
       "      <td>JAMAICA AVENUE</td>\n",
       "      <td>188 STREET</td>\n",
       "      <td>None</td>\n",
       "      <td>1.0</td>\n",
       "      <td>0.0</td>\n",
       "      <td>0</td>\n",
       "      <td>0</td>\n",
       "      <td>0</td>\n",
       "      <td>0</td>\n",
       "      <td>1</td>\n",
       "      <td>0</td>\n",
       "      <td>Driver Inattention/Distraction</td>\n",
       "      <td>Unspecified</td>\n",
       "      <td>None</td>\n",
       "      <td>None</td>\n",
       "      <td>None</td>\n",
       "      <td>4180007</td>\n",
       "      <td>Sedan</td>\n",
       "      <td>Sedan</td>\n",
       "      <td>None</td>\n",
       "      <td>None</td>\n",
       "      <td>None</td>\n",
       "      <td>POINT (1047831.185 198333.171)</td>\n",
       "      <td>317003007H1633</td>\n",
       "      <td>QUEENS HOSPITAL CENTER</td>\n",
       "      <td>82-68 164 St</td>\n",
       "      <td>10029.185965</td>\n",
       "    </tr>\n",
       "    <tr>\n",
       "      <th>2</th>\n",
       "      <td>2019-07-30</td>\n",
       "      <td>2021-11-28 00:25:00</td>\n",
       "      <td>None</td>\n",
       "      <td>None</td>\n",
       "      <td>40.880318</td>\n",
       "      <td>-73.841286</td>\n",
       "      <td>(40.880318, -73.841286)</td>\n",
       "      <td>BOSTON ROAD</td>\n",
       "      <td>None</td>\n",
       "      <td>None</td>\n",
       "      <td>1.0</td>\n",
       "      <td>0.0</td>\n",
       "      <td>0</td>\n",
       "      <td>0</td>\n",
       "      <td>0</td>\n",
       "      <td>0</td>\n",
       "      <td>1</td>\n",
       "      <td>0</td>\n",
       "      <td>Following Too Closely</td>\n",
       "      <td>Unspecified</td>\n",
       "      <td>None</td>\n",
       "      <td>None</td>\n",
       "      <td>None</td>\n",
       "      <td>4179575</td>\n",
       "      <td>Sedan</td>\n",
       "      <td>Station Wagon/Sport Utility Vehicle</td>\n",
       "      <td>None</td>\n",
       "      <td>None</td>\n",
       "      <td>None</td>\n",
       "      <td>POINT (1028139.293 260041.178)</td>\n",
       "      <td>317000006H1168</td>\n",
       "      <td>MONTEFIORE MEDICAL CENTER-WAKEFIELD HOSPITAL</td>\n",
       "      <td>600 E 233 St</td>\n",
       "      <td>7315.939667</td>\n",
       "    </tr>\n",
       "  </tbody>\n",
       "</table>\n",
       "</div>"
      ],
      "text/plain": [
       "        DATE                TIME BOROUGH ZIP CODE   LATITUDE  LONGITUDE  \\\n",
       "0 2019-07-30 2021-11-28 00:00:00   BRONX    10464  40.841100 -73.784960   \n",
       "1 2019-07-30 2021-11-28 00:10:00  QUEENS    11423  40.710827 -73.770660   \n",
       "2 2019-07-30 2021-11-28 00:25:00    None     None  40.880318 -73.841286   \n",
       "\n",
       "                  LOCATION       ON STREET  CROSS STRE  \\\n",
       "0     (40.8411, -73.78496)            None        None   \n",
       "1   (40.710827, -73.77066)  JAMAICA AVENUE  188 STREET   \n",
       "2  (40.880318, -73.841286)     BOSTON ROAD        None   \n",
       "\n",
       "               OFF STREET  NUMBER OF  NUMBER O_1  NUMBER O_2  NUMBER O_3  \\\n",
       "0  121       PILOT STREET        1.0         0.0           0           0   \n",
       "1                    None        1.0         0.0           0           0   \n",
       "2                    None        1.0         0.0           0           0   \n",
       "\n",
       "   NUMBER O_4  NUMBER O_5  NUMBER O_6  NUMBER O_7  \\\n",
       "0           0           0           1           0   \n",
       "1           0           0           1           0   \n",
       "2           0           0           1           0   \n",
       "\n",
       "                       CONTRIBUTI   CONTRIBU_1   CONTRIBU_2 CONTRIBU_3  \\\n",
       "0                     Unspecified  Unspecified  Unspecified       None   \n",
       "1  Driver Inattention/Distraction  Unspecified         None       None   \n",
       "2           Following Too Closely  Unspecified         None       None   \n",
       "\n",
       "  CONTRIBU_4  UNIQUE KEY VEHICLE TY                           VEHICLE _1  \\\n",
       "0       None     4180045      Sedan  Station Wagon/Sport Utility Vehicle   \n",
       "1       None     4180007      Sedan                                Sedan   \n",
       "2       None     4179575      Sedan  Station Wagon/Sport Utility Vehicle   \n",
       "\n",
       "                            VEHICLE _2 VEHICLE _3 VEHICLE _4  \\\n",
       "0  Station Wagon/Sport Utility Vehicle       None       None   \n",
       "1                                 None       None       None   \n",
       "2                                 None       None       None   \n",
       "\n",
       "                         geometry    id_NEAREST_H  \\\n",
       "0  POINT (1043750.211 245785.815)  317000011H1175   \n",
       "1  POINT (1047831.185 198333.171)  317003007H1633   \n",
       "2  POINT (1028139.293 260041.178)  317000006H1168   \n",
       "\n",
       "                                 NAME_NEAREST_H       ADDRESS_NEAREST_H  \\\n",
       "0                          CALVARY HOSPITAL INC  1740-70 Eastchester Rd   \n",
       "1                        QUEENS HOSPITAL CENTER            82-68 164 St   \n",
       "2  MONTEFIORE MEDICAL CENTER-WAKEFIELD HOSPITAL            600 E 233 St   \n",
       "\n",
       "   DISTANCE_NEAREST_H  \n",
       "0        16436.629798  \n",
       "1        10029.185965  \n",
       "2         7315.939667  "
      ]
     },
     "execution_count": 14,
     "metadata": {},
     "output_type": "execute_result"
    }
   ],
   "source": [
    "id_nearest_h = []\n",
    "name_nearest_h = []\n",
    "address_nearest_h = []\n",
    "distance_nearest_h = []\n",
    "\n",
    "for i, c in collisions.iterrows():\n",
    "    distance = hospitals['geometry'].distance(c['geometry']).min()\n",
    "    idx = hospitals['geometry'].distance(c['geometry']).idxmin()\n",
    "\n",
    "    id_nearest_h.append(hospitals.iloc[idx]['id'])\n",
    "    name_nearest_h.append(hospitals.iloc[idx]['name'])\n",
    "    address_nearest_h.append(hospitals.iloc[idx]['address'])\n",
    "    distance_nearest_h.append(distance)\n",
    "\n",
    "collisions['id_NEAREST_H'] = id_nearest_h\n",
    "collisions['NAME_NEAREST_H'] = name_nearest_h\n",
    "collisions['ADDRESS_NEAREST_H'] = address_nearest_h\n",
    "collisions['DISTANCE_NEAREST_H'] = distance_nearest_h\n",
    "\n",
    "print(collisions.info())\n",
    "collisions.head(3)"
   ]
  },
  {
   "cell_type": "markdown",
   "metadata": {},
   "source": [
    "How much is the fraction of car crashes\n",
    " that the nearest hospitals are\n",
    " more than 10 km away?"
   ]
  },
  {
   "cell_type": "code",
   "execution_count": 15,
   "metadata": {},
   "outputs": [
    {
     "name": "stdout",
     "output_type": "stream",
     "text": [
      "\u001b[33mIn \u001b[96m 0.161 \u001b[33m cases the nearest hospital is > 10 km away\u001b[0m\n"
     ]
    }
   ],
   "source": [
    "f_outside = (collisions['DISTANCE_NEAREST_H'] > 10 ** 4).mean()\n",
    "print(\n",
    "    f'\\033[33mIn \\033[96m{f_outside: 6.3f} \\033[33m cases \\\n",
    "the nearest hospital is > 10 km away\\033[0m')"
   ]
  },
  {
   "cell_type": "markdown",
   "metadata": {},
   "source": [
    "Find out which part of New York City,\n",
    " such cases often happen.\n",
    " Use `unary_union` that we learned in the previous lesson."
   ]
  },
  {
   "cell_type": "code",
   "execution_count": 16,
   "metadata": {},
   "outputs": [],
   "source": [
    "ten_km_buffer = gpd.GeoDataFrame(geometry=hospitals.buffer(10 ** 4))\n",
    "ten_km_buffer = ten_km_buffer.to_crs(epsg=4326)\n",
    "ten_km_union = ten_km_buffer.unary_union\n",
    "\n",
    "# We do not need to add crs to `ten_km_union` as it is a single object\n",
    "# `MultiPolygon`, not  a `GeoDataFrame`."
   ]
  },
  {
   "cell_type": "code",
   "execution_count": 17,
   "metadata": {},
   "outputs": [
    {
     "data": {
      "text/plain": [
       "<folium.features.LatLngPopup at 0x7fe9b12c3820>"
      ]
     },
     "execution_count": 17,
     "metadata": {},
     "output_type": "execute_result"
    }
   ],
   "source": [
    "def style_function(x):\n",
    "\n",
    "    return {'fillColor': 'salmon',\n",
    "            'stroke': True, 'color': 'salmon', 'weight': 8,\n",
    "            'fillOpacity': 0.2}  # 'dashArray' :  '5,5'\n",
    "\n",
    "\n",
    "tiles = 'openstreetmap'\n",
    "tiles = 'Stamen Terrain'\n",
    "m_3 = folium.Map(location=center, tiles=tiles, zoom_start=zoom)\n",
    "\n",
    "HeatMap(data=collisions[['LATITUDE', 'LONGITUDE']],\n",
    "        min_opacity=0.1,\n",
    "        radius=15).add_to(m_3)\n",
    "\n",
    "GeoJson(data=ten_km_union.__geo_interface__,\n",
    "        style_function=style_function).add_to(m_3)\n",
    "\n",
    "dump = [Marker([h['latitude'], h['longitude']],\n",
    "               tooltip=h['name'],\n",
    "               popup=h['address']).add_to(m_3)\n",
    "        for i, h in hospitals.iterrows()]\n",
    "\n",
    "folium.LatLngPopup().add_to(m_3)"
   ]
  },
  {
   "cell_type": "code",
   "execution_count": 18,
   "metadata": {},
   "outputs": [
    {
     "data": {
      "text/html": [
       "\n",
       "        <iframe\n",
       "            width=\"100%\"\n",
       "            height=\"500px\"\n",
       "            src=\"./html/m_3.html\"\n",
       "            frameborder=\"0\"\n",
       "            allowfullscreen\n",
       "        ></iframe>\n",
       "        "
      ],
      "text/plain": [
       "<IPython.lib.display.IFrame at 0x7fe9b2aacac0>"
      ]
     },
     "execution_count": 18,
     "metadata": {},
     "output_type": "execute_result"
    }
   ],
   "source": [
    "embed_map(m_3, './html/m_3.html')"
   ]
  },
  {
   "cell_type": "code",
   "execution_count": 19,
   "metadata": {},
   "outputs": [],
   "source": [
    "show_on_browser(m_3, CWD + './html/m_3b.html')"
   ]
  },
  {
   "cell_type": "markdown",
   "metadata": {},
   "source": [
    "There are three sites that the new\n",
    " hospitals should be build.\n",
    " 1. Along NY 27 at the northeast of the JFK airport.\n",
    " 2. Interchange of NY 24 at the south of Belmont Park.\n",
    " 3. East edge of Brooklyn at NY 27A."
   ]
  },
  {
   "cell_type": "markdown",
   "metadata": {},
   "source": [
    "Let us add two hospitals from our hypothesis.\n",
    " How much is the fraction of the car crashes now that happen\n",
    " outside of 10 km buffer of the NYC hospitals?\n",
    "\n",
    " From the reading of pop-up on the map,"
   ]
  },
  {
   "cell_type": "code",
   "execution_count": 20,
   "metadata": {},
   "outputs": [],
   "source": [
    "h_1 = [-73.7691, 40.6679]\n",
    "h_2 = [-73.8443, 40.6714]\n",
    "\n",
    "new_hospitals = gpd.GeoDataFrame(geometry=gpd.points_from_xy(\n",
    "    [h_1[0], h_2[0]], [h_1[1], h_2[1]], crs='epsg:4326'))\n",
    "\n",
    "new_buffers = gpd.GeoDataFrame(\n",
    "    geometry=new_hospitals.to_crs(epsg=2263).buffer(10 ** 4))\n",
    "\n",
    "new_buffers = new_buffers.to_crs(epsg=4236)"
   ]
  },
  {
   "cell_type": "code",
   "execution_count": 21,
   "metadata": {},
   "outputs": [
    {
     "data": {
      "text/plain": [
       "<folium.features.LatLngPopup at 0x7fe9b24e5610>"
      ]
     },
     "execution_count": 21,
     "metadata": {},
     "output_type": "execute_result"
    }
   ],
   "source": [
    "def style_function2(x):\n",
    "\n",
    "    return {'fillColor': 'maroon',\n",
    "            'stroke': True, 'color': 'maroon', 'weight': 8,\n",
    "            'fillOpacity': 0.2}  # 'dashArray' :  '5,5'\n",
    "\n",
    "\n",
    "tiles = 'openstreetmap'\n",
    "m_4 = folium.Map(location=center, tiles=tiles, zoom_start=zoom)\n",
    "\n",
    "HeatMap(data=collisions[['LATITUDE', 'LONGITUDE']],\n",
    "        min_opacity=0.1,\n",
    "        radius=15).add_to(m_4)\n",
    "\n",
    "GeoJson(data=ten_km_union.__geo_interface__,\n",
    "        style_function=style_function).add_to(m_4)\n",
    "\n",
    "GeoJson(data=new_hospitals.__geo_interface__).add_to(m_4)\n",
    "\n",
    "GeoJson(data=new_buffers.__geo_interface__,\n",
    "        style_function=style_function2).add_to(m_4)\n",
    "\n",
    "dump = [Marker([h['latitude'], h['longitude']],\n",
    "               tooltip=h['name'],\n",
    "               popup=h['address']).add_to(m_4)\n",
    "        for i, h in hospitals.iterrows()]\n",
    "\n",
    "folium.LatLngPopup().add_to(m_4)"
   ]
  },
  {
   "cell_type": "code",
   "execution_count": 22,
   "metadata": {},
   "outputs": [
    {
     "data": {
      "text/html": [
       "\n",
       "        <iframe\n",
       "            width=\"100%\"\n",
       "            height=\"500px\"\n",
       "            src=\"./html/m_4.html\"\n",
       "            frameborder=\"0\"\n",
       "            allowfullscreen\n",
       "        ></iframe>\n",
       "        "
      ],
      "text/plain": [
       "<IPython.lib.display.IFrame at 0x7fe9b2507190>"
      ]
     },
     "execution_count": 22,
     "metadata": {},
     "output_type": "execute_result"
    }
   ],
   "source": [
    "embed_map(m_4, './html/m_4.html')"
   ]
  },
  {
   "cell_type": "code",
   "execution_count": 23,
   "metadata": {},
   "outputs": [],
   "source": [
    "show_on_browser(m_4, CWD + './html/m_4b.html')"
   ]
  },
  {
   "cell_type": "markdown",
   "metadata": {},
   "source": [
    "Looks good."
   ]
  },
  {
   "cell_type": "code",
   "execution_count": 24,
   "metadata": {},
   "outputs": [
    {
     "name": "stderr",
     "output_type": "stream",
     "text": [
      "/Users/meg/opt/anaconda3/envs/k3/lib/python3.8/site-packages/pyproj/crs/crs.py:68: FutureWarning: '+init=<authority>:<code>' syntax is deprecated. '<authority>:<code>' is the preferred initialization method. When making the change, be mindful of axis order changes: https://pyproj4.github.io/pyproj/stable/gotchas.html#axis-order-changes-in-proj-6\n",
      "  return _prepare_from_string(\" \".join(pjargs))\n"
     ]
    },
    {
     "name": "stdout",
     "output_type": "stream",
     "text": [
      "\u001b[33mIn \u001b[96m 0.099 \u001b[33m cases the nearest hospital is > 10 km away\u001b[0m\n"
     ]
    }
   ],
   "source": [
    "new_hospitals_ny = new_hospitals.to_crs(epsg=2263).copy()\n",
    "\n",
    "all_hospitals = gpd.GeoDataFrame(pd.concat([hospitals['geometry'],\n",
    "                                            new_hospitals_ny['geometry']], axis=0,\n",
    "                                           ignore_index=True))\n",
    "\n",
    "# It is enough to change the column name.\n",
    "\n",
    "all_hospitals.rename(columns={0: 'geometry'}, inplace=True)\n",
    "all_hospitals.crs = {'init': 'epsg:2263'}\n",
    "\n",
    "distance_new = []\n",
    "for i, c in collisions.iterrows():\n",
    "    distance_new.append(\n",
    "        all_hospitals['geometry'].distance(c['geometry']).min())\n",
    "\n",
    "f2_outside = (np.array(distance_new) > 10 ** 4).mean()\n",
    "\n",
    "print(\n",
    "    f'\\033[33mIn \\033[96m{f2_outside: 6.3f} \\033[33m cases \\\n",
    "the nearest hospital is > 10 km away\\033[0m')"
   ]
  },
  {
   "cell_type": "markdown",
   "metadata": {},
   "source": [
    "## 4. Conclusion\n",
    "\n",
    " We tried both combinations above, i.e., (1,2) and (1,3).\n",
    " We found (1,3) is more effective to reduce the fraction\n",
    " of car crashes outside 10 km of a hospital.\n",
    " Again the proposed sites are"
   ]
  },
  {
   "cell_type": "code",
   "execution_count": 25,
   "metadata": {},
   "outputs": [],
   "source": [
    "h_1 = [-73.7691, 40.6679]\n",
    "h_2 = [-73.8443, 40.6714]"
   ]
  },
  {
   "cell_type": "markdown",
   "metadata": {},
   "source": [
    "## 5. Appendix\n",
    "\n",
    " Write a function that takes longitude and latitude of a car crash,\n",
    " and returns the name and the address of the nearest hospital."
   ]
  },
  {
   "cell_type": "code",
   "execution_count": 26,
   "metadata": {},
   "outputs": [],
   "source": [
    "def nearest_hospital(z, hospitals) -> gpd.GeoDataFrame:\n",
    "    '''\n",
    "    z : gpd.GeoDataFrame.  \n",
    "        z['geometry'] contains the longitude and the latitude \n",
    "        of the place where the car crash happened. \n",
    "\n",
    "      hospitals : gpd.GeoDataFrame. A list of locations and other \n",
    "    informations (name, address, etc.) of the hospitals \n",
    "    in New York City.\n",
    "\n",
    "    '''\n",
    "    z = z.to_crs(epsg=2263)\n",
    "    z = z.iloc[0]\n",
    "\n",
    "    idx = hospitals['geometry'].distance(z['geometry']).idxmin()\n",
    "    distance = hospitals['geometry'].distance(z['geometry']).min() / 10**3\n",
    "\n",
    "    print(f'DISTANCE : \\033[96m {distance:5.1f} \\033[0mkm')\n",
    "\n",
    "    return hospitals.iloc[idx][['name', 'address', 'longitude', 'latitude']]"
   ]
  },
  {
   "cell_type": "markdown",
   "metadata": {},
   "source": [
    "Test."
   ]
  },
  {
   "cell_type": "code",
   "execution_count": 27,
   "metadata": {},
   "outputs": [
    {
     "name": "stdout",
     "output_type": "stream",
     "text": [
      "DISTANCE : \u001b[96m   4.4 \u001b[0mkm\n"
     ]
    },
    {
     "data": {
      "text/plain": [
       "name         MOUNT SINAI HOSPITAL\n",
       "address       1 Gustave L Levy Pl\n",
       "longitude              -73.953266\n",
       "latitude                40.789875\n",
       "Name: 37, dtype: object"
      ]
     },
     "execution_count": 27,
     "metadata": {},
     "output_type": "execute_result"
    }
   ],
   "source": [
    "# Imaginative crash location.\n",
    "z = gpd.GeoDataFrame(geometry=gpd.points_from_xy(\n",
    "    [-73.9683], [40.7937], crs='epsg:4326'))\n",
    "\n",
    "nearest_hospital(z, hospitals)"
   ]
  },
  {
   "cell_type": "markdown",
   "metadata": {},
   "source": [
    "END"
   ]
  }
 ],
 "metadata": {
  "kernelspec": {
   "display_name": "k3",
   "language": "python",
   "name": "k3"
  },
  "language_info": {
   "codemirror_mode": {
    "name": "ipython",
    "version": 3
   },
   "file_extension": ".py",
   "mimetype": "text/x-python",
   "name": "python",
   "nbconvert_exporter": "python",
   "pygments_lexer": "ipython3",
   "version": "3.8.2"
  },
  "toc": {
   "base_numbering": 1,
   "nav_menu": {},
   "number_sections": false,
   "sideBar": true,
   "skip_h1_title": true,
   "title_cell": "Table of Contents",
   "title_sidebar": "Contents",
   "toc_cell": true,
   "toc_position": {},
   "toc_section_display": true,
   "toc_window_display": true
  },
  "varInspector": {
   "cols": {
    "lenName": 16,
    "lenType": 16,
    "lenVar": 40
   },
   "kernels_config": {
    "python": {
     "delete_cmd_postfix": "",
     "delete_cmd_prefix": "del ",
     "library": "var_list.py",
     "varRefreshCmd": "print(var_dic_list())"
    },
    "r": {
     "delete_cmd_postfix": ") ",
     "delete_cmd_prefix": "rm(",
     "library": "var_list.r",
     "varRefreshCmd": "cat(var_dic_list()) "
    }
   },
   "types_to_exclude": [
    "module",
    "function",
    "builtin_function_or_method",
    "instance",
    "_Feature"
   ],
   "window_display": true
  }
 },
 "nbformat": 4,
 "nbformat_minor": 4
}
