{
 "cells": [
  {
   "cell_type": "markdown",
   "metadata": {},
   "source": [
    "------------------------------------------------------------------\n",
    " # Geospatial Data Exercise\n",
    "------------------------------------------------------------------\n",
    "\n",
    " This is an exercise notebook for the fifth lesson of the kaggle course\n",
    " [\"Geospatial Analysis\"](https://www.kaggle.com/learn/geospatial-analysis)\n",
    " offered by Alexis Cook and Jessica Li. The main goal of the lesson is\n",
    " to get used to __Proximity Analysis__, using `geopandas` methods such as\n",
    " `.distance`. We also learn how to use\n",
    " `.unary_union` to connect multiple `POLYGON`s into one."
   ]
  },
  {
   "cell_type": "markdown",
   "metadata": {},
   "source": [
    "## 1. Task\n",
    "\n",
    "   Every day someone injured in New York City in a car accident.\n",
    "   If an ambulance can quickly rush into a nearby hospital with a patient\n",
    "   is a matter of life and death. We will review the records of daily car\n",
    "   crashes in New York City and the locations of hospitals there.\n",
    "\n",
    " 1. Find out if there is any vulnerable districts where\n",
    "    it takes particularly long to transport the injured to a hospital.\n",
    " 2. Create a recommender system to tell ambulance drivers\n",
    "    to which hospital (the nearest) they should transport the injured."
   ]
  },
  {
   "cell_type": "markdown",
   "metadata": {},
   "source": [
    "## 2. Data\n",
    "\n",
    " 1. Daily records of car crashes in New York City.\n",
    "\n",
    " 2. Locations of hospitals in New York City.\n",
    "\n",
    " 3. General underlying  map."
   ]
  },
  {
   "cell_type": "markdown",
   "metadata": {},
   "source": [
    "## 3. Notebook"
   ]
  },
  {
   "cell_type": "markdown",
   "metadata": {},
   "source": [
    "Import packages."
   ]
  },
  {
   "cell_type": "code",
   "execution_count": null,
   "metadata": {},
   "outputs": [],
   "source": [
    "import folium\n",
    "import numpy as np\n",
    "from folium import Marker, GeoJson\n",
    "from folium.plugins import HeatMap\n",
    "import pandas as pd\n",
    "import geopandas as gpd\n",
    "import plotly.graph_objs as go\n",
    "from kaggle_geospatial.kgsp import *\n",
    "from datetime import datetime\n",
    "import os\n",
    "from pathlib import Path"
   ]
  },
  {
   "cell_type": "markdown",
   "metadata": {},
   "source": [
    "Set up some directories."
   ]
  },
  {
   "cell_type": "code",
   "execution_count": null,
   "metadata": {},
   "outputs": [],
   "source": [
    "CWD = '/Users/meg/git6/ny_hospitals/'\n",
    "DATA_DIR = '../input/geospatial-learn-course-data/'\n",
    "KAGGLE_DIR = 'alexisbcook/geospatial-learn-course-data'\n",
    "GEO_DIR = 'geospatial-learn-course-data'\n",
    "\n",
    "os.chdir(CWD)\n",
    "\n",
    "set_cwd(CWD)\n",
    "set_data_dir(DATA_DIR, KAGGLE_DIR, GEO_DIR, CWD)\n",
    "show_whole_dataframe(True)"
   ]
  },
  {
   "cell_type": "markdown",
   "metadata": {},
   "source": [
    "Read the daily records of car crashes in New York City."
   ]
  },
  {
   "cell_type": "code",
   "execution_count": null,
   "metadata": {},
   "outputs": [],
   "source": [
    "collisions_dir = DATA_DIR + \\\n",
    "    'NYPD_Motor_Vehicle_Collisions/NYPD_Motor_Vehicle_Collisions/'\n",
    "\n",
    "collisions = gpd.read_file(\n",
    "    collisions_dir + 'NYPD_Motor_Vehicle_Collisions.shp',\n",
    "    parse_dates=['DATE', 'TIME'])\n",
    "\n",
    "print(collisions.info())"
   ]
  },
  {
   "cell_type": "markdown",
   "metadata": {},
   "source": [
    "It looks like, `parse_dates` does not convert `dtype` of\n",
    " date and time to `datetime` from `object` (string).\n",
    " Do it separately."
   ]
  },
  {
   "cell_type": "code",
   "execution_count": null,
   "metadata": {},
   "outputs": [],
   "source": [
    "collisions['DATE'] = pd.to_datetime(collisions['DATE'])\n",
    "collisions['TIME'] = pd.to_datetime(collisions['TIME'])"
   ]
  },
  {
   "cell_type": "markdown",
   "metadata": {},
   "source": [
    "Let us start with the record in 2019 only."
   ]
  },
  {
   "cell_type": "code",
   "execution_count": null,
   "metadata": {},
   "outputs": [],
   "source": [
    "print(collisions['DATE'].min())\n",
    "print(collisions['DATE'].max())\n",
    "print(len(collisions))\n",
    "\n",
    "collisions = collisions[collisions['DATE'] >=\n",
    "                        datetime.strptime('2019/01/01', '%Y/%m/%d')]\n",
    "\n",
    "print(collisions['DATE'].min())\n",
    "print(collisions['DATE'].max())\n",
    "print(len(collisions))\n",
    "collisions.head(3)"
   ]
  },
  {
   "cell_type": "markdown",
   "metadata": {},
   "source": [
    "Read the locations of hospitals in New York City."
   ]
  },
  {
   "cell_type": "code",
   "execution_count": null,
   "metadata": {},
   "outputs": [],
   "source": [
    "hospitals_dir = DATA_DIR + 'nyu_2451_34494/nyu_2451_34494/'\n",
    "hospitals = gpd.read_file(hospitals_dir + 'nyu_2451_34494.shp')\n",
    "\n",
    "print(hospitals.info())\n",
    "print(hospitals.shape)\n",
    "hospitals.head(3)"
   ]
  },
  {
   "cell_type": "code",
   "execution_count": null,
   "metadata": {},
   "outputs": [],
   "source": [
    "# Create a heatmap to show how the car crashes in New York City distributed.\n",
    "# First, set up the center of the map, tiles, and the initial zoom-factor.\n",
    "\n",
    "center = (collisions['LATITUDE'].mean(), collisions['LONGITUDE'].mean())\n",
    "tiles = 'Stamen Terrain'\n",
    "tiles = 'openstreetmap'\n",
    "# tiles = 'cartodbpositron'\n",
    "zoom = 12\n",
    "\n",
    "m_1 = folium.Map(location=center, tiles=tiles, zoom_start=zoom)\n",
    "HeatMap(data=collisions[['LATITUDE', 'LONGITUDE']],\n",
    "        min_opacity=0.1,\n",
    "        radius=15).add_to(m_1)"
   ]
  },
  {
   "cell_type": "code",
   "execution_count": null,
   "metadata": {},
   "outputs": [],
   "source": [
    "embed_map(m_1, './html/m_1.html')"
   ]
  },
  {
   "cell_type": "code",
   "execution_count": null,
   "metadata": {},
   "outputs": [],
   "source": [
    "show_on_browser(m_1, CWD + './html/m_1b.html')"
   ]
  },
  {
   "cell_type": "markdown",
   "metadata": {},
   "source": [
    "There are concentrations of car crashes in\n",
    " * Lower Manhattan\n",
    " * Brooklyn\n",
    " * The Bronx"
   ]
  },
  {
   "cell_type": "markdown",
   "metadata": {},
   "source": [
    "in this order."
   ]
  },
  {
   "cell_type": "markdown",
   "metadata": {},
   "source": [
    "Let us overlay the locations of hospitals."
   ]
  },
  {
   "cell_type": "code",
   "execution_count": null,
   "metadata": {},
   "outputs": [],
   "source": [
    "m_2 = folium.Map(location=center, tiles=tiles, zoom_start=zoom)\n",
    "HeatMap(data=collisions[['LATITUDE', 'LONGITUDE']],\n",
    "        min_opacity=0.1,\n",
    "        radius=15).add_to(m_2)\n",
    "dump = [Marker(location=[r['latitude'], r['longitude']], tooltip=r['name'],\n",
    "               popup=r['address']).add_to(m_2) for i, r in hospitals.iterrows()]"
   ]
  },
  {
   "cell_type": "code",
   "execution_count": null,
   "metadata": {},
   "outputs": [],
   "source": [
    "embed_map(m_2, './html/m_2.html')"
   ]
  },
  {
   "cell_type": "code",
   "execution_count": null,
   "metadata": {},
   "outputs": [],
   "source": [
    "show_on_browser(m_2, CWD + './html/m_2b.html')"
   ]
  },
  {
   "cell_type": "markdown",
   "metadata": {},
   "source": [
    "Pick up the cases that the closest hospitals are more than 10 km away."
   ]
  },
  {
   "cell_type": "markdown",
   "metadata": {},
   "source": [
    "1. Add following columns to `collisions` table.\n",
    " - name, id and address of the nearest hospital.\n",
    " - distance to the nearest hospital."
   ]
  },
  {
   "cell_type": "markdown",
   "metadata": {},
   "source": [
    "2. Flag it when the nearest hospitals is more than 10 km away.\n",
    " Note that units of EPSG 2263 are meters."
   ]
  },
  {
   "cell_type": "code",
   "execution_count": null,
   "metadata": {},
   "outputs": [],
   "source": [
    "print(hospitals.crs)\n",
    "hospitals.crs == collisions.crs"
   ]
  },
  {
   "cell_type": "code",
   "execution_count": null,
   "metadata": {},
   "outputs": [],
   "source": [
    "id_nearest_h = []\n",
    "name_nearest_h = []\n",
    "address_nearest_h = []\n",
    "distance_nearest_h = []\n",
    "\n",
    "for i, c in collisions.iterrows():\n",
    "    distance = hospitals['geometry'].distance(c['geometry']).min()\n",
    "    idx = hospitals['geometry'].distance(c['geometry']).idxmin()\n",
    "\n",
    "    id_nearest_h.append(hospitals.iloc[idx]['id'])\n",
    "    name_nearest_h.append(hospitals.iloc[idx]['name'])\n",
    "    address_nearest_h.append(hospitals.iloc[idx]['address'])\n",
    "    distance_nearest_h.append(distance)\n",
    "\n",
    "collisions['id_NEAREST_H'] = id_nearest_h\n",
    "collisions['NAME_NEAREST_H'] = name_nearest_h\n",
    "collisions['ADDRESS_NEAREST_H'] = address_nearest_h\n",
    "collisions['DISTANCE_NEAREST_H'] = distance_nearest_h\n",
    "\n",
    "print(collisions.info())\n",
    "collisions.head(3)"
   ]
  },
  {
   "cell_type": "markdown",
   "metadata": {},
   "source": [
    "How much is the fraction of car crashes\n",
    " that the nearest hospitals are\n",
    " more than 10 km away?"
   ]
  },
  {
   "cell_type": "code",
   "execution_count": null,
   "metadata": {},
   "outputs": [],
   "source": [
    "f_outside = (collisions['DISTANCE_NEAREST_H'] > 10 ** 4).mean()\n",
    "print(\n",
    "    f'\\033[33mIn \\033[96m{f_outside: 6.3f} \\033[33m cases \\\n",
    "the nearest hospital is > 10 km away\\033[0m')"
   ]
  },
  {
   "cell_type": "markdown",
   "metadata": {},
   "source": [
    "Find out which part of New York City,\n",
    " such cases often happen.\n",
    " Use `unary_union` that we learned in the previous lesson."
   ]
  },
  {
   "cell_type": "code",
   "execution_count": null,
   "metadata": {},
   "outputs": [],
   "source": [
    "ten_km_buffer = gpd.GeoDataFrame(geometry=hospitals.buffer(10 ** 4))\n",
    "ten_km_buffer = ten_km_buffer.to_crs(epsg=4326)\n",
    "ten_km_union = ten_km_buffer.unary_union\n",
    "\n",
    "# We do not need to add crs to `ten_km_union` as it is a single object\n",
    "# `MultiPolygon`, not  a `GeoDataFrame`."
   ]
  },
  {
   "cell_type": "code",
   "execution_count": null,
   "metadata": {},
   "outputs": [],
   "source": [
    "def style_function(x):\n",
    "\n",
    "    return {'fillColor': 'salmon',\n",
    "            'stroke': True, 'color': 'salmon', 'weight': 8,\n",
    "            'fillOpacity': 0.2}  # 'dashArray' :  '5,5'\n",
    "\n",
    "\n",
    "tiles = 'openstreetmap'\n",
    "tiles = 'Stamen Terrain'\n",
    "m_3 = folium.Map(location=center, tiles=tiles, zoom_start=zoom)\n",
    "\n",
    "HeatMap(data=collisions[['LATITUDE', 'LONGITUDE']],\n",
    "        min_opacity=0.1,\n",
    "        radius=15).add_to(m_3)\n",
    "\n",
    "GeoJson(data=ten_km_union.__geo_interface__,\n",
    "        style_function=style_function).add_to(m_3)\n",
    "\n",
    "dump = [Marker([h['latitude'], h['longitude']],\n",
    "               tooltip=h['name'],\n",
    "               popup=h['address']).add_to(m_3)\n",
    "        for i, h in hospitals.iterrows()]\n",
    "\n",
    "folium.LatLngPopup().add_to(m_3)"
   ]
  },
  {
   "cell_type": "code",
   "execution_count": null,
   "metadata": {},
   "outputs": [],
   "source": [
    "embed_map(m_3, './html/m_3.html')"
   ]
  },
  {
   "cell_type": "code",
   "execution_count": null,
   "metadata": {},
   "outputs": [],
   "source": [
    "show_on_browser(m_3, CWD + './html/m_3b.html')"
   ]
  },
  {
   "cell_type": "markdown",
   "metadata": {},
   "source": [
    "There are three sites that the new\n",
    " hospitals should be build.\n",
    " 1. Along NY 27 at the northeast of the JFK airport.\n",
    " 2. Interchange of NY 24 at the south of Belmont Park.\n",
    " 3. East edge of Brooklyn at NY 27A."
   ]
  },
  {
   "cell_type": "markdown",
   "metadata": {},
   "source": [
    "Let us add two hospitals from our hypothesis.\n",
    " How much is the fraction of the car crashes now that happen\n",
    " outside of 10 km buffer of the NYC hospitals?\n",
    "\n",
    " From the reading of pop-up on the map,"
   ]
  },
  {
   "cell_type": "code",
   "execution_count": null,
   "metadata": {},
   "outputs": [],
   "source": [
    "h_1 = [-73.7691, 40.6679]\n",
    "h_2 = [-73.8443, 40.6714]\n",
    "\n",
    "new_hospitals = gpd.GeoDataFrame(geometry=gpd.points_from_xy(\n",
    "    [h_1[0], h_2[0]], [h_1[1], h_2[1]], crs='epsg:4326'))\n",
    "\n",
    "new_buffers = gpd.GeoDataFrame(\n",
    "    geometry=new_hospitals.to_crs(epsg=2263).buffer(10 ** 4))\n",
    "\n",
    "new_buffers = new_buffers.to_crs(epsg=4236)"
   ]
  },
  {
   "cell_type": "code",
   "execution_count": null,
   "metadata": {},
   "outputs": [],
   "source": [
    "def style_function2(x):\n",
    "\n",
    "    return {'fillColor': 'maroon',\n",
    "            'stroke': True, 'color': 'maroon', 'weight': 8,\n",
    "            'fillOpacity': 0.2}  # 'dashArray' :  '5,5'\n",
    "\n",
    "\n",
    "tiles = 'openstreetmap'\n",
    "m_4 = folium.Map(location=center, tiles=tiles, zoom_start=zoom)\n",
    "\n",
    "HeatMap(data=collisions[['LATITUDE', 'LONGITUDE']],\n",
    "        min_opacity=0.1,\n",
    "        radius=15).add_to(m_4)\n",
    "\n",
    "GeoJson(data=ten_km_union.__geo_interface__,\n",
    "        style_function=style_function).add_to(m_4)\n",
    "\n",
    "GeoJson(data=new_hospitals.__geo_interface__).add_to(m_4)\n",
    "\n",
    "GeoJson(data=new_buffers.__geo_interface__,\n",
    "        style_function=style_function2).add_to(m_4)\n",
    "\n",
    "dump = [Marker([h['latitude'], h['longitude']],\n",
    "               tooltip=h['name'],\n",
    "               popup=h['address']).add_to(m_4)\n",
    "        for i, h in hospitals.iterrows()]\n",
    "\n",
    "folium.LatLngPopup().add_to(m_4)"
   ]
  },
  {
   "cell_type": "code",
   "execution_count": null,
   "metadata": {},
   "outputs": [],
   "source": [
    "embed_map(m_4, './html/m_4.html')"
   ]
  },
  {
   "cell_type": "code",
   "execution_count": null,
   "metadata": {},
   "outputs": [],
   "source": [
    "show_on_browser(m_4, CWD + './html/m_4b.html')"
   ]
  },
  {
   "cell_type": "markdown",
   "metadata": {},
   "source": [
    "Looks good."
   ]
  },
  {
   "cell_type": "code",
   "execution_count": null,
   "metadata": {},
   "outputs": [],
   "source": [
    "new_hospitals_ny = new_hospitals.to_crs(epsg=2263).copy()\n",
    "\n",
    "all_hospitals = gpd.GeoDataFrame(pd.concat([hospitals['geometry'],\n",
    "                                            new_hospitals_ny['geometry']], axis=0,\n",
    "                                           ignore_index=True))\n",
    "\n",
    "# It is enough to change the column name.\n",
    "\n",
    "all_hospitals.rename(columns={0: 'geometry'}, inplace=True)\n",
    "all_hospitals.crs = {'init': 'epsg:2263'}\n",
    "\n",
    "distance_new = []\n",
    "for i, c in collisions.iterrows():\n",
    "    distance_new.append(\n",
    "        all_hospitals['geometry'].distance(c['geometry']).min())\n",
    "\n",
    "f2_outside = (np.array(distance_new) > 10 ** 4).mean()\n",
    "\n",
    "print(\n",
    "    f'\\033[33mIn \\033[96m{f2_outside: 6.3f} \\033[33m cases \\\n",
    "the nearest hospital is > 10 km away\\033[0m')"
   ]
  },
  {
   "cell_type": "markdown",
   "metadata": {},
   "source": [
    "## 4. Conclusion\n",
    "\n",
    " We tried both combinations above, i.e., (1,2) and (1,3).\n",
    " We found (1,3) is more effective to reduce the fraction\n",
    " of car crashes outside 10 km of a hospital.\n",
    " Again the proposed sites are"
   ]
  },
  {
   "cell_type": "code",
   "execution_count": null,
   "metadata": {},
   "outputs": [],
   "source": [
    "h_1 = [-73.7691, 40.6679]\n",
    "h_2 = [-73.8443, 40.6714]"
   ]
  },
  {
   "cell_type": "markdown",
   "metadata": {},
   "source": [
    "## 5. Appendix\n",
    "\n",
    " Write a function that takes longitude and latitude of a car crash,\n",
    " and returns the name and the address of the nearest hospital."
   ]
  },
  {
   "cell_type": "code",
   "execution_count": null,
   "metadata": {},
   "outputs": [],
   "source": [
    "def nearest_hospital(z, hospitals) -> gpd.GeoDataFrame:\n",
    "    '''\n",
    "    z : gpd.GeoDataFrame.  \n",
    "        z['geometry'] contains the longitude and the latitude \n",
    "        of the place where the car crash happened. \n",
    "\n",
    "      hospitals : gpd.GeoDataFrame. A list of locations and other \n",
    "    informations (name, address, etc.) of the hospitals \n",
    "    in New York City.\n",
    "\n",
    "    '''\n",
    "    z = z.to_crs(epsg=2263)\n",
    "    z = z.iloc[0]\n",
    "\n",
    "    idx = hospitals['geometry'].distance(z['geometry']).idxmin()\n",
    "    distance = hospitals['geometry'].distance(z['geometry']).min() / 10**3\n",
    "\n",
    "    print(f'DISTANCE : \\033[96m {distance:5.1f} \\033[0mkm')\n",
    "\n",
    "    return hospitals.iloc[idx][['name', 'address', 'longitude', 'latitude']]"
   ]
  },
  {
   "cell_type": "markdown",
   "metadata": {},
   "source": [
    "Test."
   ]
  },
  {
   "cell_type": "code",
   "execution_count": null,
   "metadata": {},
   "outputs": [],
   "source": [
    "# Imaginative crash location.\n",
    "z = gpd.GeoDataFrame(geometry=gpd.points_from_xy(\n",
    "    [-73.9683], [40.7937], crs='epsg:4326'))\n",
    "\n",
    "nearest_hospital(z, hospitals)"
   ]
  },
  {
   "cell_type": "markdown",
   "metadata": {},
   "source": [
    "END"
   ]
  }
 ],
 "metadata": {},
 "nbformat": 4,
 "nbformat_minor": 4
}
